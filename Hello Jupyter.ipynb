{
 "cells": [
  {
   "cell_type": "code",
   "execution_count": 2,
   "id": "17713b70",
   "metadata": {},
   "outputs": [
    {
     "name": "stdout",
     "output_type": "stream",
     "text": [
      "testing testing\n"
     ]
    }
   ],
   "source": [
    "x=\"testing testing\"\n",
    "print(x)"
   ]
  },
  {
   "cell_type": "code",
   "execution_count": 3,
   "id": "286aa5dc",
   "metadata": {},
   "outputs": [
    {
     "data": {
      "text/plain": [
       "7024"
      ]
     },
     "execution_count": 3,
     "metadata": {},
     "output_type": "execute_result"
    }
   ],
   "source": [
    "235 + 6789"
   ]
  },
  {
   "cell_type": "markdown",
   "id": "64aa31e0",
   "metadata": {},
   "source": [
    "- un\n",
    "- dos\n",
    "- tres"
   ]
  },
  {
   "cell_type": "code",
   "execution_count": 4,
   "id": "f48731e3",
   "metadata": {},
   "outputs": [
    {
     "name": "stdout",
     "output_type": "stream",
     "text": [
      "markdown\n"
     ]
    }
   ],
   "source": [
    "x=\"markdown\"\n",
    "print(x)"
   ]
  },
  {
   "attachments": {},
   "cell_type": "markdown",
   "id": "1f34b021",
   "metadata": {},
   "source": [
    "**bold letters**"
   ]
  },
  {
   "cell_type": "code",
   "execution_count": 5,
   "id": "d84adb83",
   "metadata": {
    "scrolled": true
   },
   "outputs": [
    {
     "name": "stdout",
     "output_type": "stream",
     "text": [
      "Collecting package metadata (current_repodata.json): done\n",
      "Solving environment: done\n",
      "\n",
      "## Package Plan ##\n",
      "\n",
      "  environment location: /Users/d56/opt/anaconda3\n",
      "\n",
      "  added / updated specs:\n",
      "    - nb_conda\n",
      "\n",
      "\n",
      "The following packages will be downloaded:\n",
      "\n",
      "    package                    |            build\n",
      "    ---------------------------|-----------------\n",
      "    conda-4.10.3               |   py38hecd8cb5_0         2.9 MB\n",
      "    nb_conda-2.2.1             |           py38_1          34 KB\n",
      "    nb_conda_kernels-2.3.1     |   py38hecd8cb5_0          27 KB\n",
      "    ------------------------------------------------------------\n",
      "                                           Total:         2.9 MB\n",
      "\n",
      "The following NEW packages will be INSTALLED:\n",
      "\n",
      "  nb_conda           pkgs/main/osx-64::nb_conda-2.2.1-py38_1\n",
      "  nb_conda_kernels   pkgs/main/osx-64::nb_conda_kernels-2.3.1-py38hecd8cb5_0\n",
      "\n",
      "The following packages will be UPDATED:\n",
      "\n",
      "  conda                               4.10.1-py38hecd8cb5_1 --> 4.10.3-py38hecd8cb5_0\n",
      "\n",
      "\n",
      "\n",
      "Downloading and Extracting Packages\n",
      "nb_conda_kernels-2.3 | 27 KB     | ##################################### | 100% \n",
      "nb_conda-2.2.1       | 34 KB     | ##################################### | 100% \n",
      "conda-4.10.3         | 2.9 MB    | ##################################### | 100% \n",
      "Preparing transaction: done\n",
      "Verifying transaction: done\n",
      "Executing transaction: - Enabling nb_conda_kernels...\n",
      "CONDA_PREFIX: /Users/d56/opt/anaconda3\n",
      "Status: enabled\n",
      "\n",
      "| Config option `kernel_spec_manager_class` not recognized by `EnableNBExtensionApp`.\n",
      "Enabling notebook extension nb_conda/main...\n",
      "      - Validating: \u001b[32mOK\u001b[0m\n",
      "Enabling tree extension nb_conda/tree...\n",
      "      - Validating: \u001b[32mOK\u001b[0m\n",
      "Config option `kernel_spec_manager_class` not recognized by `EnableServerExtensionApp`.\n",
      "Enabling: nb_conda\n",
      "- Writing config: /Users/d56/opt/anaconda3/etc/jupyter\n",
      "    - Validating...\n",
      "      nb_conda 2.2.1 \u001b[32mOK\u001b[0m\n",
      "\n",
      "done\n",
      "\n",
      "Note: you may need to restart the kernel to use updated packages.\n"
     ]
    }
   ],
   "source": [
    "conda install nb_conda"
   ]
  },
  {
   "cell_type": "code",
   "execution_count": 6,
   "id": "a84177f0",
   "metadata": {},
   "outputs": [
    {
     "name": "stdout",
     "output_type": "stream",
     "text": [
      "Collecting package metadata (current_repodata.json): done\n",
      "Solving environment: done\n",
      "\n",
      "# All requested packages already installed.\n",
      "\n",
      "\n",
      "Note: you may need to restart the kernel to use updated packages.\n"
     ]
    }
   ],
   "source": [
    "conda install nbconvert"
   ]
  },
  {
   "cell_type": "code",
   "execution_count": null,
   "id": "b31393cd",
   "metadata": {},
   "outputs": [],
   "source": []
  }
 ],
 "metadata": {
  "kernelspec": {
   "display_name": "Python 3",
   "language": "python",
   "name": "python3"
  },
  "language_info": {
   "codemirror_mode": {
    "name": "ipython",
    "version": 3
   },
   "file_extension": ".py",
   "mimetype": "text/x-python",
   "name": "python",
   "nbconvert_exporter": "python",
   "pygments_lexer": "ipython3",
   "version": "3.8.8"
  }
 },
 "nbformat": 4,
 "nbformat_minor": 5
}
